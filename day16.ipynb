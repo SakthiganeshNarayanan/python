{
 "cells": [
  {
   "cell_type": "code",
   "execution_count": 8,
   "id": "d2754ca9-b985-4050-a19e-e4ddcd0a8e88",
   "metadata": {},
   "outputs": [
    {
     "ename": "AttributeError",
     "evalue": "'st' object has no attribute 'st'",
     "output_type": "error",
     "traceback": [
      "\u001b[1;31m---------------------------------------------------------------------------\u001b[0m",
      "\u001b[1;31mAttributeError\u001b[0m                            Traceback (most recent call last)",
      "Cell \u001b[1;32mIn[8], line 14\u001b[0m\n\u001b[0;32m     11\u001b[0m         \u001b[38;5;28mprint\u001b[39m(\u001b[38;5;28mself\u001b[39m\u001b[38;5;241m.\u001b[39mage)\n\u001b[0;32m     13\u001b[0m pi\u001b[38;5;241m=\u001b[39mst(\u001b[38;5;124m\"\u001b[39m\u001b[38;5;124msg\u001b[39m\u001b[38;5;124m\"\u001b[39m,\u001b[38;5;241m22\u001b[39m,\u001b[38;5;124m\"\u001b[39m\u001b[38;5;124mcse\u001b[39m\u001b[38;5;124m\"\u001b[39m)\n\u001b[1;32m---> 14\u001b[0m pi\u001b[38;5;241m.\u001b[39mst()\n",
      "\u001b[1;31mAttributeError\u001b[0m: 'st' object has no attribute 'st'"
     ]
    }
   ],
   "source": [
    "class clg():\n",
    "    def __init__(self,name,age,dept):\n",
    "        self.name=name\n",
    "        self.age=age\n",
    "        self.dept=dept\n",
    "    def stddetaile(self):\n",
    "        print(self.name)\n",
    "\n",
    "class st(clg):\n",
    "    def teacher(self):\n",
    "        print(self.age)\n",
    "\n",
    "pi=st(\"sg\",22,\"cse\")\n",
    "pi.st()\n"
   ]
  },
  {
   "cell_type": "code",
   "execution_count": 1,
   "id": "e2941e58-a1f7-463e-a19b-c38e7da0a04d",
   "metadata": {},
   "outputs": [
    {
     "name": "stdout",
     "output_type": "stream",
     "text": [
      "raja\n"
     ]
    }
   ],
   "source": [
    "class parent1:\n",
    "    def __init__(self,name,age,dept):\n",
    "        self.name=name\n",
    "        self.age=age\n",
    "        self.dept=dept\n",
    "    def details(self):\n",
    "        print(self.name)\n",
    "\n",
    "\n",
    "class child(parent1):\n",
    "    def show(self):\n",
    "        print(self.age)\n",
    "\n",
    "p1=child(\"raja\",23,\"eee\")\n",
    "p1.details()"
   ]
  },
  {
   "cell_type": "code",
   "execution_count": null,
   "id": "058b2f49-29c5-4e3a-a4ae-700b85500b57",
   "metadata": {},
   "outputs": [],
   "source": []
  }
 ],
 "metadata": {
  "kernelspec": {
   "display_name": "Python 3 (ipykernel)",
   "language": "python",
   "name": "python3"
  },
  "language_info": {
   "codemirror_mode": {
    "name": "ipython",
    "version": 3
   },
   "file_extension": ".py",
   "mimetype": "text/x-python",
   "name": "python",
   "nbconvert_exporter": "python",
   "pygments_lexer": "ipython3",
   "version": "3.12.7"
  }
 },
 "nbformat": 4,
 "nbformat_minor": 5
}
