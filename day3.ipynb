{
 "cells": [
  {
   "cell_type": "code",
   "execution_count": 11,
   "id": "f3184f95-64d1-4d36-864c-4fa794ae5d90",
   "metadata": {},
   "outputs": [
    {
     "name": "stdout",
     "output_type": "stream",
     "text": [
      "11\n",
      "23\n",
      "1\n"
     ]
    }
   ],
   "source": [
    "text=\"hi welcome to stranger talks\"\n",
    "a=text.find(\"to\")\n",
    "b=text.find(\"talks\")\n",
    "c=text.find(\"i\")\n",
    "print(a)\n",
    "print(b)\n",
    "print(c)"
   ]
  },
  {
   "cell_type": "code",
   "execution_count": 13,
   "id": "5d68c5aa-0d49-44af-94a7-8cae7a6e28f0",
   "metadata": {},
   "outputs": [
    {
     "name": "stdout",
     "output_type": "stream",
     "text": [
      "True\n",
      "True\n",
      "False\n"
     ]
    }
   ],
   "source": [
    "text=\"sakthiganesh10\"\n",
    "text1=\"sakthiganesh\"\n",
    "text2=\"sakthi ganesh\"\n",
    "a=text.isalnum()\n",
    "b=text1.isalnum()\n",
    "c=text2.isalnum()\n",
    "print(a)\n",
    "print(b)\n",
    "print(c)"
   ]
  },
  {
   "cell_type": "code",
   "execution_count": 14,
   "id": "7744811e-2699-46ae-acb6-9697bf0a4aae",
   "metadata": {},
   "outputs": [
    {
     "name": "stdout",
     "output_type": "stream",
     "text": [
      "False\n",
      "True\n",
      "False\n"
     ]
    }
   ],
   "source": [
    "text=\"sakthiganesh10\"\n",
    "text1=\"sakthiganesh\"\n",
    "text2=\"sakthi ganesh\"\n",
    "a=text.isalpha()\n",
    "b=text1.isalpha()\n",
    "c=text2.isalpha()\n",
    "print(a)\n",
    "print(b)\n",
    "print(c)"
   ]
  },
  {
   "cell_type": "code",
   "execution_count": 15,
   "id": "432d12da-3aee-4a2d-869d-251fd095fd27",
   "metadata": {},
   "outputs": [
    {
     "name": "stdout",
     "output_type": "stream",
     "text": [
      "True\n",
      "True\n",
      "False\n"
     ]
    }
   ],
   "source": [
    "text=\"10\"\n",
    "text1=\"1\"\n",
    "text2=\"sakthi ganesh\"\n",
    "a=text.isdigit()\n",
    "b=text1.isdigit()\n",
    "c=text2.isdigit()\n",
    "print(a)\n",
    "print(b)\n",
    "print(c)"
   ]
  },
  {
   "cell_type": "code",
   "execution_count": 16,
   "id": "158ada9d-2383-46fd-b177-10f08c60889a",
   "metadata": {},
   "outputs": [
    {
     "name": "stdout",
     "output_type": "stream",
     "text": [
      "False\n",
      "False\n",
      "True\n"
     ]
    }
   ],
   "source": [
    "text=\"10\"\n",
    "text1=\"sg 10\"\n",
    "text2=\"sakthi_ganesh\"\n",
    "a=text.isidentifier()\n",
    "b=text1.isidentifier()\n",
    "c=text2.isidentifier()\n",
    "print(a)\n",
    "print(b)\n",
    "print(c)"
   ]
  },
  {
   "cell_type": "code",
   "execution_count": null,
   "id": "d279d3c2-8ce0-4bbb-b33e-78ac049eb1e1",
   "metadata": {},
   "outputs": [],
   "source": []
  }
 ],
 "metadata": {
  "kernelspec": {
   "display_name": "Python 3 (ipykernel)",
   "language": "python",
   "name": "python3"
  },
  "language_info": {
   "codemirror_mode": {
    "name": "ipython",
    "version": 3
   },
   "file_extension": ".py",
   "mimetype": "text/x-python",
   "name": "python",
   "nbconvert_exporter": "python",
   "pygments_lexer": "ipython3",
   "version": "3.12.7"
  }
 },
 "nbformat": 4,
 "nbformat_minor": 5
}
