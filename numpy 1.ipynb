{
 "cells": [
  {
   "cell_type": "code",
   "execution_count": 18,
   "id": "3734f844-77d4-4fc3-8db2-349eb58ca086",
   "metadata": {},
   "outputs": [
    {
     "name": "stdout",
     "output_type": "stream",
     "text": [
      "[[1 2 3 4 5]]\n"
     ]
    }
   ],
   "source": [
    "import numpy as np\n",
    "s=np.array([1,2,3,4,5]])\n",
    "print(s)"
   ]
  },
  {
   "cell_type": "code",
   "execution_count": 10,
   "id": "8e64af86-060c-447c-a57b-c67887961edc",
   "metadata": {},
   "outputs": [
    {
     "name": "stdout",
     "output_type": "stream",
     "text": [
      "[[1 2 3 4 5]\n",
      " [6 7 8 9 0]]\n",
      "2\n"
     ]
    }
   ],
   "source": [
    "#2 dimension\n",
    "import numpy as np\n",
    "a=np.array([[1,2,3,4,5],[6,7,8,9,0]])\n",
    "print(a)\n",
    "print(a.ndim)"
   ]
  },
  {
   "cell_type": "code",
   "execution_count": 20,
   "id": "d386a57f-6857-41f5-a0f1-1602c209c2b5",
   "metadata": {},
   "outputs": [
    {
     "name": "stdout",
     "output_type": "stream",
     "text": [
      "[[[1 2 3 4 5]\n",
      "  [6 7 8 9 0]]]\n",
      "3\n"
     ]
    }
   ],
   "source": [
    "#3 dimension\n",
    "import numpy as np\n",
    "a=np.array([[[1,2,3,4,5],[6,7,8,9,0]]])\n",
    "print(a)\n",
    "print(a.ndim)\n",
    "           \n",
    "           "
   ]
  },
  {
   "cell_type": "code",
   "execution_count": 15,
   "id": "feae159b-12d8-4e45-a41b-0bfa85dc6c06",
   "metadata": {},
   "outputs": [
    {
     "name": "stdout",
     "output_type": "stream",
     "text": [
      "3\n"
     ]
    }
   ],
   "source": [
    "import numpy as np\n",
    "b=np.array([1,2,3,4,5,6,7,8,9,0])\n",
    "print(b[2])"
   ]
  },
  {
   "cell_type": "code",
   "execution_count": 17,
   "id": "a76ef9e0-6756-464a-a041-a6175f7405be",
   "metadata": {},
   "outputs": [
    {
     "name": "stdout",
     "output_type": "stream",
     "text": [
      "[3 4 5 6]\n"
     ]
    }
   ],
   "source": [
    "#slicing\n",
    "import numpy as np\n",
    "b=np.array([1,2,3,4,5,6,7,8,9,0])\n",
    "print(b[2:6])"
   ]
  },
  {
   "cell_type": "code",
   "execution_count": 22,
   "id": "f78d3534-1770-4b24-9eff-01ba8a0ed13e",
   "metadata": {},
   "outputs": [
    {
     "name": "stdout",
     "output_type": "stream",
     "text": [
      "5\n"
     ]
    }
   ],
   "source": [
    "#indexing\n",
    "import numpy as np\n",
    "b=np.array([[1,2,3,4,5],[6,7,8,9,0]])\n",
    "print(b[0,4])"
   ]
  },
  {
   "cell_type": "code",
   "execution_count": 43,
   "id": "4635f870-9d22-4e2f-8924-35e27c3cae96",
   "metadata": {},
   "outputs": [
    {
     "name": "stdout",
     "output_type": "stream",
     "text": [
      "5\n",
      "0\n",
      "[2 3 4]\n"
     ]
    }
   ],
   "source": [
    "import numpy as np\n",
    "b=np.array([[1,2,3,4,5],[6,7,8,9,0]])\n",
    "print(b[0,4])\n",
    "print(b[1,4])\n",
    "#slicing\n",
    "print(b[0,1:4])"
   ]
  },
  {
   "cell_type": "code",
   "execution_count": 44,
   "id": "d90ac1f7-942c-4c8b-b4ac-34836f228c15",
   "metadata": {},
   "outputs": [
    {
     "name": "stdout",
     "output_type": "stream",
     "text": [
      "[6 7 8 9 0]\n"
     ]
    }
   ],
   "source": [
    "import numpy as np\n",
    "a=np.array([[[1,2,3,4,5],[6,7,8,9,0]],[[1,2,3,4,5],[6,7,8,9,0]]])\n",
    "print(a[1,1])"
   ]
  },
  {
   "cell_type": "code",
   "execution_count": null,
   "id": "6569e2d5-9bed-4f7f-bef1-d40d811b75b3",
   "metadata": {},
   "outputs": [],
   "source": []
  }
 ],
 "metadata": {
  "kernelspec": {
   "display_name": "Python 3 (ipykernel)",
   "language": "python",
   "name": "python3"
  },
  "language_info": {
   "codemirror_mode": {
    "name": "ipython",
    "version": 3
   },
   "file_extension": ".py",
   "mimetype": "text/x-python",
   "name": "python",
   "nbconvert_exporter": "python",
   "pygments_lexer": "ipython3",
   "version": "3.12.7"
  }
 },
 "nbformat": 4,
 "nbformat_minor": 5
}
