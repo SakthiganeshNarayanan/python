{
 "cells": [
  {
   "cell_type": "code",
   "execution_count": 1,
   "id": "7372553d-59b6-49f5-8488-72e0358e3b9c",
   "metadata": {},
   "outputs": [
    {
     "data": {
      "text/plain": [
       "['TVK', 'DMK', 'ADMK', 'NTK', 'pmk']"
      ]
     },
     "execution_count": 1,
     "metadata": {},
     "output_type": "execute_result"
    }
   ],
   "source": [
    "s=[\"TVK\" , \"DMK\" , \"ADMK\" , \"NTK\"]\n",
    "s.append(\"pmk\")\n",
    "s"
   ]
  },
  {
   "cell_type": "code",
   "execution_count": 3,
   "id": "8c2a8144-5812-4677-a836-584162404d66",
   "metadata": {},
   "outputs": [
    {
     "data": {
      "text/plain": [
       "['TVK', 'ADMK', 'NTK']"
      ]
     },
     "execution_count": 3,
     "metadata": {},
     "output_type": "execute_result"
    }
   ],
   "source": [
    "s=[\"TVK\" , \"DMK\" , \"ADMK\" , \"NTK\"]\n",
    "s.remove(\"DMK\")\n",
    "s"
   ]
  },
  {
   "cell_type": "code",
   "execution_count": 6,
   "id": "564b8bbc-5727-42db-ad1a-19f1ea614eb5",
   "metadata": {},
   "outputs": [
    {
     "data": {
      "text/plain": [
       "['TVK', 'ADMK', 'NTK']"
      ]
     },
     "execution_count": 6,
     "metadata": {},
     "output_type": "execute_result"
    }
   ],
   "source": [
    "s=[\"TVK\" , \"DMK\" , \"ADMK\" , \"NTK\"]\n",
    "s.pop(1)\n",
    "s"
   ]
  },
  {
   "cell_type": "code",
   "execution_count": 9,
   "id": "d2433362-a7c5-448f-b589-f79dfce514ee",
   "metadata": {},
   "outputs": [
    {
     "ename": "SyntaxError",
     "evalue": "unmatched ']' (116734481.py, line 2)",
     "output_type": "error",
     "traceback": [
      "\u001b[1;36m  Cell \u001b[1;32mIn[9], line 2\u001b[1;36m\u001b[0m\n\u001b[1;33m    g=[\"pmk\" , \"blp\"]]\u001b[0m\n\u001b[1;37m                     ^\u001b[0m\n\u001b[1;31mSyntaxError\u001b[0m\u001b[1;31m:\u001b[0m unmatched ']'\n"
     ]
    }
   ],
   "source": [
    "s=[\"TVK\" , \"DMK\" , \"ADMK\" , \"NTK\"]\n",
    "g=[\"pmk\" , \"blp\"]]\n",
    "s=g.union()\n",
    "print(s)"
   ]
  },
  {
   "cell_type": "code",
   "execution_count": null,
   "id": "3be30df9-fd44-45d7-b92a-264faaabc138",
   "metadata": {},
   "outputs": [],
   "source": []
  }
 ],
 "metadata": {
  "kernelspec": {
   "display_name": "Python 3 (ipykernel)",
   "language": "python",
   "name": "python3"
  },
  "language_info": {
   "codemirror_mode": {
    "name": "ipython",
    "version": 3
   },
   "file_extension": ".py",
   "mimetype": "text/x-python",
   "name": "python",
   "nbconvert_exporter": "python",
   "pygments_lexer": "ipython3",
   "version": "3.12.7"
  }
 },
 "nbformat": 4,
 "nbformat_minor": 5
}
