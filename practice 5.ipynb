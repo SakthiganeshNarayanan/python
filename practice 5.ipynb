{
 "cells": [
  {
   "cell_type": "code",
   "execution_count": 1,
   "id": "c4151a6a-29e5-46ff-bf43-c1ac1c1fc30c",
   "metadata": {},
   "outputs": [
    {
     "name": "stdout",
     "output_type": "stream",
     "text": [
      "a lesserthen b\n"
     ]
    }
   ],
   "source": [
    "#condition statement \n",
    "a=30\n",
    "b=40\n",
    "if a==b:\n",
    "    print(\"a equal to b\")\n",
    "elif a < b:\n",
    "    print(\"a lesserthen b\")"
   ]
  },
  {
   "cell_type": "code",
   "execution_count": 6,
   "id": "94a97eb1-7f62-459a-9d7c-907b79d64b9b",
   "metadata": {},
   "outputs": [
    {
     "name": "stdout",
     "output_type": "stream",
     "text": [
      "a greater then b\n"
     ]
    }
   ],
   "source": [
    "a=100\n",
    "b=50\n",
    "if a < b:\n",
    "    print(\"a lesserthen b\")\n",
    "else:\n",
    "     print(\"a greater then b\")"
   ]
  },
  {
   "cell_type": "code",
   "execution_count": 10,
   "id": "e1896ad8-6e41-4c70-961d-31a9ac458424",
   "metadata": {},
   "outputs": [
    {
     "name": "stdout",
     "output_type": "stream",
     "text": [
      "both condition are true\n"
     ]
    }
   ],
   "source": [
    "a=80\n",
    "b=60\n",
    "c=90\n",
    "if a > b and c > b:\n",
    "    print(\"both condition are true\")"
   ]
  },
  {
   "cell_type": "code",
   "execution_count": 18,
   "id": "ee391558-29cc-4abb-8313-e926b31aed99",
   "metadata": {},
   "outputs": [
    {
     "name": "stdout",
     "output_type": "stream",
     "text": [
      "atleast one of the condition are true\n"
     ]
    }
   ],
   "source": [
    "a=80\n",
    "b=60\n",
    "c=90\n",
    "if a > b or c < b:\n",
    "    print(\"atleast one of the condition are true\")"
   ]
  },
  {
   "cell_type": "code",
   "execution_count": 19,
   "id": "82bbdb33-5fe1-4b0c-986b-52f4cb7e23eb",
   "metadata": {},
   "outputs": [
    {
     "name": "stdout",
     "output_type": "stream",
     "text": [
      "bothe condition are true\n"
     ]
    }
   ],
   "source": [
    "a=80\n",
    "b=60\n",
    "c=90\n",
    "if a > b or c < b:\n",
    "    print(\"bothe condition are true\")"
   ]
  },
  {
   "cell_type": "code",
   "execution_count": null,
   "id": "36393462-97d5-457c-a8cf-ed2d04509c19",
   "metadata": {},
   "outputs": [],
   "source": []
  }
 ],
 "metadata": {
  "kernelspec": {
   "display_name": "Python 3 (ipykernel)",
   "language": "python",
   "name": "python3"
  },
  "language_info": {
   "codemirror_mode": {
    "name": "ipython",
    "version": 3
   },
   "file_extension": ".py",
   "mimetype": "text/x-python",
   "name": "python",
   "nbconvert_exporter": "python",
   "pygments_lexer": "ipython3",
   "version": "3.12.7"
  }
 },
 "nbformat": 4,
 "nbformat_minor": 5
}
