{
 "cells": [
  {
   "cell_type": "code",
   "execution_count": 3,
   "id": "37ca5b11-8568-4486-a016-180a28f9bd29",
   "metadata": {},
   "outputs": [
    {
     "name": "stdout",
     "output_type": "stream",
     "text": [
      "['hi', 'hello']\n",
      "2\n",
      "hello\n"
     ]
    }
   ],
   "source": [
    "#list\n",
    "a=[\"hi\" , \"hello\"]\n",
    "print(a)\n",
    "print(len(a))\n",
    "print(a[1])"
   ]
  },
  {
   "cell_type": "code",
   "execution_count": 11,
   "id": "14231ca4-a329-4eef-9ece-23178bf7f6c7",
   "metadata": {},
   "outputs": [
    {
     "name": "stdout",
     "output_type": "stream",
     "text": [
      "['TVK', 'DMK', 'ADMK', 'NTK']\n"
     ]
    },
    {
     "data": {
      "text/plain": [
       "['TVK', 'DMK', 'bjp', 'NTK']"
      ]
     },
     "execution_count": 11,
     "metadata": {},
     "output_type": "execute_result"
    }
   ],
   "source": [
    "\n",
    "print(s)\n",
    "s[2]=\"bjp\"\n",
    "s\n"
   ]
  },
  {
   "cell_type": "code",
   "execution_count": null,
   "id": "bdcf3694-2a71-4219-8b3e-8f0cb9bec6a5",
   "metadata": {},
   "outputs": [],
   "source": [
    "s=[\"TVK\" , \"DMK\" , \"ADMK\" , \"NTK\"]\n",
    "s[1:2]=[\""
   ]
  },
  {
   "cell_type": "code",
   "execution_count": null,
   "id": "6371797d-7e18-4429-a65f-9652d50c1ae4",
   "metadata": {},
   "outputs": [],
   "source": []
  }
 ],
 "metadata": {
  "kernelspec": {
   "display_name": "Python 3 (ipykernel)",
   "language": "python",
   "name": "python3"
  },
  "language_info": {
   "codemirror_mode": {
    "name": "ipython",
    "version": 3
   },
   "file_extension": ".py",
   "mimetype": "text/x-python",
   "name": "python",
   "nbconvert_exporter": "python",
   "pygments_lexer": "ipython3",
   "version": "3.12.7"
  }
 },
 "nbformat": 4,
 "nbformat_minor": 5
}
